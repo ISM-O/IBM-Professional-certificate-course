{
 "cells": [
  {
   "cell_type": "markdown",
   "id": "5c268fb7-b911-4b53-a916-b8f1b836a604",
   "metadata": {},
   "source": [
    "<h1>Outils et écosystème de la science des données<h1>"
   ]
  },
  {
   "cell_type": "markdown",
   "id": "0df03cf2-5617-46bb-acc5-58d114f61ba2",
   "metadata": {},
   "source": [
    "Dans ce notebook, les outils et l'écosystème de la science des données sont résumés."
   ]
  },
  {
   "cell_type": "markdown",
   "id": "f37dc70a-4160-40c7-867f-2ff12c1450fe",
   "metadata": {},
   "source": [
    "<strong>Objectifs :<strong>\n",
    "- langages populaires que les scientifiques des donnée<br>\n",
    "- bibliothèques couramment utilisées par les scientifiques des données<br>\n",
    "- Outils de la science des données:<br>"
   ]
  },
  {
   "cell_type": "markdown",
   "id": "6ea02eee-bc99-40bc-a263-6a762887a843",
   "metadata": {},
   "source": [
    "Certains des langages populaires que les scientifiques des données utilisent sont :<br>\n",
    "1-python<br>\n",
    "2-R<br>\n",
    "3-SQL<br>"
   ]
  },
  {
   "cell_type": "markdown",
   "id": "218a87d8-9a03-4057-83ec-3bc553956660",
   "metadata": {},
   "source": [
    "Certaines des bibliothèques couramment utilisées par les scientifiques des données incluent :<br>\n",
    "1-pandas<br>\n",
    "2-numpy<br>\n",
    "3-keras<br>"
   ]
  },
  {
   "cell_type": "markdown",
   "id": "3b0bd344-d15b-4f6e-9177-c1723c1b662a",
   "metadata": {},
   "source": [
    "Outils de la science des données:<br>\n",
    "1-RStudio<br>\n",
    "2-Anaconda<br>\n",
    "3-mleap<br>\n",
    "4-SELDON<br>"
   ]
  },
  {
   "cell_type": "markdown",
   "id": "4ced29c9-49dc-443d-8d66-1ff8b7093bc2",
   "metadata": {},
   "source": [
    "<h3>Voici quelques exemples d'évaluation d'expressions arithmétiques en Python<h3>"
   ]
  },
  {
   "cell_type": "code",
   "execution_count": 12,
   "id": "7f04c8e8-989e-40fe-a291-8b3baeac68f3",
   "metadata": {},
   "outputs": [
    {
     "data": {
      "text/plain": [
       "17"
      ]
     },
     "execution_count": 12,
     "metadata": {},
     "output_type": "execute_result"
    }
   ],
   "source": [
    "#That's a simple evaluation of arithmetic expression\n",
    "(3*4)+5"
   ]
  },
  {
   "cell_type": "code",
   "execution_count": 14,
   "id": "73f53a3e-296f-49e3-880a-4c1e6a885aa9",
   "metadata": {},
   "outputs": [
    {
     "data": {
      "text/plain": [
       "3.3333333333333335"
      ]
     },
     "execution_count": 14,
     "metadata": {},
     "output_type": "execute_result"
    }
   ],
   "source": [
    "#transform 200 minutes to hours\n",
    "200/60"
   ]
  },
  {
   "cell_type": "markdown",
   "id": "627e1e22-a0a5-40b1-b3de-843dca9d0310",
   "metadata": {},
   "source": [
    "<h2>Auteur:ISMAEL</h2>"
   ]
  },
  {
   "cell_type": "code",
   "execution_count": null,
   "id": "3b08ddb8-60a4-4a19-9fc1-c390801daf53",
   "metadata": {},
   "outputs": [],
   "source": []
  }
 ],
 "metadata": {
  "kernelspec": {
   "display_name": "Python 3 (ipykernel)",
   "language": "python",
   "name": "python3"
  },
  "language_info": {
   "codemirror_mode": {
    "name": "ipython",
    "version": 3
   },
   "file_extension": ".py",
   "mimetype": "text/x-python",
   "name": "python",
   "nbconvert_exporter": "python",
   "pygments_lexer": "ipython3",
   "version": "3.12.7"
  }
 },
 "nbformat": 4,
 "nbformat_minor": 5
}
